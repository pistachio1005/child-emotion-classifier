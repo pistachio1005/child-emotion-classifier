{
 "cells": [
  {
   "cell_type": "code",
   "execution_count": 3,
   "metadata": {},
   "outputs": [],
   "source": [
    "# convert images to feature matrix\n",
    "\n",
    "import os\n",
    "import numpy as np\n",
    "from skimage.io import imread\n",
    "from skimage.transform import resize\n",
    "from skimage.feature import hog\n",
    "\n",
    "# Set the path of the directory containing the images\n",
    "image_dir = \"cropped_image_subset/labeled_train/\"\n",
    "\n",
    "# Set the desired size of the images\n",
    "image_size = (128, 128)\n",
    "\n",
    "# Initialize an empty list to store the feature vectors\n",
    "features = []\n",
    "\n",
    "# Loop through all the files in the directory\n",
    "for filename in os.listdir(image_dir):\n",
    "    # Read the image using scikit-image\n",
    "    image = imread(os.path.join(image_dir, filename), as_gray=True)\n",
    "    \n",
    "    # Resize the image to the desired size\n",
    "    image = resize(image, image_size)\n",
    "    \n",
    "    # Extract the HOG features of the image\n",
    "    feature_vector = hog(image, orientations=8, pixels_per_cell=(16, 16), cells_per_block=(1, 1))\n",
    "    \n",
    "    # Add the feature vector to the list\n",
    "    features.append(feature_vector)\n",
    "\n",
    "# Convert the list of feature vectors to a numpy array\n",
    "feature_matrix = np.array(features)"
   ]
  },
  {
   "cell_type": "code",
   "execution_count": 5,
   "metadata": {},
   "outputs": [
    {
     "data": {
      "text/plain": [
       "array([[0.        , 0.        , 0.        , ..., 0.55628988, 0.11713558,\n",
       "        0.03914548],\n",
       "       [0.51024937, 0.20471436, 0.14528652, ..., 0.17111456, 0.2272992 ,\n",
       "        0.23349827],\n",
       "       [0.55038378, 0.55038378, 0.26893461, ..., 0.36445501, 0.36445501,\n",
       "        0.36445501],\n",
       "       ...,\n",
       "       [0.27597384, 0.12305023, 0.46153722, ..., 0.14849936, 0.20684361,\n",
       "        0.34784123],\n",
       "       [0.36029633, 0.36029633, 0.36029633, ..., 0.13095087, 0.10787969,\n",
       "        0.05816223],\n",
       "       [0.86787621, 0.06456386, 0.04349264, ..., 0.        , 0.        ,\n",
       "        0.        ]])"
      ]
     },
     "execution_count": 5,
     "metadata": {},
     "output_type": "execute_result"
    }
   ],
   "source": [
    "feature_matrix"
   ]
  }
 ],
 "metadata": {
  "kernelspec": {
   "display_name": "base",
   "language": "python",
   "name": "python3"
  },
  "language_info": {
   "codemirror_mode": {
    "name": "ipython",
    "version": 3
   },
   "file_extension": ".py",
   "mimetype": "text/x-python",
   "name": "python",
   "nbconvert_exporter": "python",
   "pygments_lexer": "ipython3",
   "version": "3.10.11"
  },
  "orig_nbformat": 4
 },
 "nbformat": 4,
 "nbformat_minor": 2
}
